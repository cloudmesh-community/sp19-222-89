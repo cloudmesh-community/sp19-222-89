{
 "cells": [
  {
   "cell_type": "code",
   "execution_count": 2,
   "metadata": {},
   "outputs": [],
   "source": [
    "import numpy as np\n",
    "import math\n",
    "#zero is civic, 1 is wrangler, 2 is a4, 3 is focus, 4 is aura, 5 is equinox, 6 is g35, 7 is scooter, 8 is lambo, 9 is\n",
    "#sentra\n",
    "\n",
    "malibu= [118,1,2000,1]\n",
    "data = [[130,1,2012,1,0], [110,0,1992,4,1], [175,1,2007,2,2], [120,1,2014,3,3], \n",
    "        [110,1,2009,4,4], [100,1,2014,2,5], [151,1,2006,4,6], [35,1,2017,1,7], \n",
    "        [217,0,2019, 3,9], [181,1,2003,2,8]]\n",
    "\n",
    "w, h = 10, 2;\n",
    "distances = [[0 for x in range(w)] for y in range(h)] \n",
    "\n",
    "def dist(a,b):\n",
    "    return math.sqrt((a[0]-b[0])**2 + (a[1]-b[1])**2 + (a[2]-b[2])**2 + (a[3]-b[3])**2)\n",
    "\n",
    "for i in range(0):\n",
    "    distances[i][0] = dist(data[i],malibu)\n",
    "    \n",
    "    distances[i][1] = data[i][4]\n"
   ]
  },
  {
   "cell_type": "code",
   "execution_count": null,
   "metadata": {},
   "outputs": [],
   "source": []
  }
 ],
 "metadata": {
  "kernelspec": {
   "display_name": "Python 3",
   "language": "python",
   "name": "python3"
  },
  "language_info": {
   "codemirror_mode": {
    "name": "ipython",
    "version": 3
   },
   "file_extension": ".py",
   "mimetype": "text/x-python",
   "name": "python",
   "nbconvert_exporter": "python",
   "pygments_lexer": "ipython3",
   "version": "3.7.1"
  }
 },
 "nbformat": 4,
 "nbformat_minor": 2
}
